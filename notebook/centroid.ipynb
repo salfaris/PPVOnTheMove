{
 "cells": [
  {
   "cell_type": "code",
   "execution_count": 2,
   "source": [
    "\n",
    "import sys\n",
    "sys.path.append('../')\n",
    "\n",
    "import pandas as pd\n",
    "import numpy as np\n",
    "import clustering"
   ],
   "outputs": [],
   "metadata": {}
  },
  {
   "cell_type": "code",
   "execution_count": 3,
   "source": [
    "PATH_TO_DATA = \"../data\"\n",
    "# DATA_FILE = \"/ppv_state-district-geo-dataAug2021.csv\"\n",
    "DATA_FILE = \"/ppv_skp-geo-pop-data.csv\"\n",
    "data_src = PATH_TO_DATA + DATA_FILE\n",
    "df = pd.read_csv(data_src)\n",
    "\n",
    "COORD_COLS = ['latitude', 'longitude']"
   ],
   "outputs": [],
   "metadata": {}
  },
  {
   "cell_type": "code",
   "execution_count": 4,
   "source": [
    "np.random.seed(0)"
   ],
   "outputs": [],
   "metadata": {}
  },
  {
   "cell_type": "code",
   "execution_count": 6,
   "source": [
    "gombak = df[df.district == 'Gombak']\n",
    "gombak[COORD_COLS].values"
   ],
   "outputs": [
    {
     "output_type": "execute_result",
     "data": {
      "text/plain": [
       "array([[  3.2360267 , 101.6296346 ],\n",
       "       [  3.2919717 , 101.7309713 ],\n",
       "       [  3.2426173 , 101.6464691 ],\n",
       "       [  3.2196265 , 101.5831991 ],\n",
       "       [  3.1749588 , 101.7487479 ],\n",
       "       [  3.24627404, 101.72260143],\n",
       "       [  3.3201676 , 101.4736959 ],\n",
       "       [  3.2178664 , 101.7142398 ],\n",
       "       [  3.2594189 , 101.55195   ],\n",
       "       [  3.3147693 , 101.5958835 ],\n",
       "       [  3.245237  , 101.6738341 ],\n",
       "       [  3.2192844 , 101.5779949 ],\n",
       "       [  3.224222  , 101.6229275 ],\n",
       "       [  3.28321805, 101.53893315],\n",
       "       [  3.22103425, 101.59345045],\n",
       "       [  3.30017675, 101.64358485],\n",
       "       [  3.2511277 , 101.7279981 ]])"
      ]
     },
     "metadata": {},
     "execution_count": 6
    }
   ],
   "metadata": {}
  },
  {
   "cell_type": "code",
   "execution_count": 9,
   "source": [
    "n_split = 5\n",
    "shuffled = gombak.sample(frac=1)\n",
    "splits = np.array_split(shuffled, n_split)"
   ],
   "outputs": [],
   "metadata": {}
  },
  {
   "cell_type": "code",
   "execution_count": 12,
   "source": [
    "splits[0]"
   ],
   "outputs": [
    {
     "output_type": "execute_result",
     "data": {
      "text/plain": [
       "       state district                                           ppv_name  \\\n",
       "5   Selangor   Gombak                            Klinik Kesihatan Batu 8   \n",
       "13  Selangor   Gombak  Le Garden Pavilion, Gamuda Gardens, Rawang, Go...   \n",
       "7   Selangor   Gombak                      Klinik Kesihatan Gombak Setia   \n",
       "4   Selangor   Gombak                               Klinik Kesihatan AU2   \n",
       "\n",
       "    latitude   longitude  pop_density  pop_growth  \n",
       "5   3.246274  101.722601         1270       0.017  \n",
       "13  3.283218  101.538933         1270       0.017  \n",
       "7   3.217866  101.714240         1270       0.017  \n",
       "4   3.174959  101.748748         1270       0.017  "
      ],
      "text/html": [
       "<div>\n",
       "<style scoped>\n",
       "    .dataframe tbody tr th:only-of-type {\n",
       "        vertical-align: middle;\n",
       "    }\n",
       "\n",
       "    .dataframe tbody tr th {\n",
       "        vertical-align: top;\n",
       "    }\n",
       "\n",
       "    .dataframe thead th {\n",
       "        text-align: right;\n",
       "    }\n",
       "</style>\n",
       "<table border=\"1\" class=\"dataframe\">\n",
       "  <thead>\n",
       "    <tr style=\"text-align: right;\">\n",
       "      <th></th>\n",
       "      <th>state</th>\n",
       "      <th>district</th>\n",
       "      <th>ppv_name</th>\n",
       "      <th>latitude</th>\n",
       "      <th>longitude</th>\n",
       "      <th>pop_density</th>\n",
       "      <th>pop_growth</th>\n",
       "    </tr>\n",
       "  </thead>\n",
       "  <tbody>\n",
       "    <tr>\n",
       "      <th>5</th>\n",
       "      <td>Selangor</td>\n",
       "      <td>Gombak</td>\n",
       "      <td>Klinik Kesihatan Batu 8</td>\n",
       "      <td>3.246274</td>\n",
       "      <td>101.722601</td>\n",
       "      <td>1270</td>\n",
       "      <td>0.017</td>\n",
       "    </tr>\n",
       "    <tr>\n",
       "      <th>13</th>\n",
       "      <td>Selangor</td>\n",
       "      <td>Gombak</td>\n",
       "      <td>Le Garden Pavilion, Gamuda Gardens, Rawang, Go...</td>\n",
       "      <td>3.283218</td>\n",
       "      <td>101.538933</td>\n",
       "      <td>1270</td>\n",
       "      <td>0.017</td>\n",
       "    </tr>\n",
       "    <tr>\n",
       "      <th>7</th>\n",
       "      <td>Selangor</td>\n",
       "      <td>Gombak</td>\n",
       "      <td>Klinik Kesihatan Gombak Setia</td>\n",
       "      <td>3.217866</td>\n",
       "      <td>101.714240</td>\n",
       "      <td>1270</td>\n",
       "      <td>0.017</td>\n",
       "    </tr>\n",
       "    <tr>\n",
       "      <th>4</th>\n",
       "      <td>Selangor</td>\n",
       "      <td>Gombak</td>\n",
       "      <td>Klinik Kesihatan AU2</td>\n",
       "      <td>3.174959</td>\n",
       "      <td>101.748748</td>\n",
       "      <td>1270</td>\n",
       "      <td>0.017</td>\n",
       "    </tr>\n",
       "  </tbody>\n",
       "</table>\n",
       "</div>"
      ]
     },
     "metadata": {},
     "execution_count": 12
    }
   ],
   "metadata": {}
  },
  {
   "cell_type": "code",
   "execution_count": 16,
   "source": [
    "centroids = []\n",
    "split = splits[0]\n",
    "split_coords = split[COORD_COLS].values\n",
    "centroid = split_coords.mean(axis=0) # Weightless centroid\n",
    "centroids.append(centroid)"
   ],
   "outputs": [],
   "metadata": {}
  },
  {
   "cell_type": "code",
   "execution_count": 34,
   "source": [
    "def euclidean_metric(x: np.ndarray, y: np.ndarray):\n",
    "    distance = np.sqrt(((x-y)**2).sum())\n",
    "    return distance\n",
    "\n",
    "def lp_metric(x: np.ndarray, y: np.ndarray, p: float):\n",
    "    if p <= 0:\n",
    "        raise ValueError(\"Expect 'p' to be a positive real number.\")\n",
    "    distance = ((abs(x-y)**p).sum())**(1./p)\n",
    "    return distance"
   ],
   "outputs": [],
   "metadata": {}
  },
  {
   "cell_type": "code",
   "execution_count": 35,
   "source": [
    "print(lp_metric(np.array([1, 1]), np.array([2, 2]), p=1))\n",
    "euclidean_metric(np.array([1, 1]), np.array([2, 2]))"
   ],
   "outputs": [
    {
     "output_type": "stream",
     "name": "stdout",
     "text": [
      "2.0\n"
     ]
    },
    {
     "output_type": "execute_result",
     "data": {
      "text/plain": [
       "1.4142135623730951"
      ]
     },
     "metadata": {},
     "execution_count": 35
    }
   ],
   "metadata": {}
  },
  {
   "cell_type": "code",
   "execution_count": 48,
   "source": [
    "import itertools\n",
    "from scipy.spatial.distance import cdist"
   ],
   "outputs": [],
   "metadata": {}
  },
  {
   "cell_type": "code",
   "execution_count": 110,
   "source": [
    "def spherical_distance(x, y):\n",
    "    distance = np.arccos(np.sin(x[0])*np.sin(y[0]) + np.cos(x[0])*np.cos(y[0])*np.cos(y[1] - x[1]))\n",
    "    return distance"
   ],
   "outputs": [],
   "metadata": {}
  },
  {
   "cell_type": "code",
   "execution_count": 111,
   "source": [
    "split_coords"
   ],
   "outputs": [
    {
     "output_type": "execute_result",
     "data": {
      "text/plain": [
       "array([[  3.24627404, 101.72260143],\n",
       "       [  3.28321805, 101.53893315],\n",
       "       [  3.2178664 , 101.7142398 ],\n",
       "       [  3.1749588 , 101.7487479 ]])"
      ]
     },
     "metadata": {},
     "execution_count": 111
    }
   ],
   "metadata": {}
  },
  {
   "cell_type": "code",
   "execution_count": 150,
   "source": [
    "radii = [1e-6, 1e-5, 1e-4, 1e-3, 1e-2, 1e-1, 0, 1, 10, 100, 1000]\n",
    "for r in radii:\n",
    "    res = clustering.two_nearest_circle_point_centroid(split_coords[1], split_coords[3], r, r+0.188)\n",
    "    print(f\"r: {r}, res: {res}\")"
   ],
   "outputs": [
    {
     "output_type": "stream",
     "name": "stdout",
     "text": [
      "r: 1e-06, res: [  3.60662046 111.903096  ]\n",
      "r: 1e-05, res: [  3.60662046 111.903096  ]\n",
      "r: 0.0001, res: [  3.60662046 111.903096  ]\n",
      "r: 0.001, res: [  3.60662046 111.903096  ]\n",
      "r: 0.01, res: [  3.60662046 111.903096  ]\n",
      "r: 0.1, res: [  3.60662046 111.903096  ]\n",
      "r: 0, res: [  3.60662046 111.903096  ]\n",
      "r: 1, res: [  3.60662046 111.903096  ]\n",
      "r: 10, res: [  3.60662046 111.903096  ]\n",
      "r: 100, res: [  3.60662046 111.903096  ]\n",
      "r: 1000, res: [  3.60662046 111.903096  ]\n"
     ]
    }
   ],
   "metadata": {}
  },
  {
   "cell_type": "code",
   "execution_count": 113,
   "source": [
    "euclidean_metric(split_coords[0], split_coords[1])"
   ],
   "outputs": [
    {
     "output_type": "execute_result",
     "data": {
      "text/plain": [
       "0.18734699159893353"
      ]
     },
     "metadata": {},
     "execution_count": 113
    }
   ],
   "metadata": {}
  },
  {
   "cell_type": "code",
   "execution_count": 49,
   "source": [
    "def closest_node(node, nodes):\n",
    "    return nodes[cdist([node], nodes).argmin()]"
   ],
   "outputs": [],
   "metadata": {}
  },
  {
   "cell_type": "code",
   "execution_count": 70,
   "source": [
    "node = [3.24627404, 101.72260143]\n",
    "nodes = split_coords\n",
    "\n",
    "cdist([node], nodes).nonzero()"
   ],
   "outputs": [
    {
     "output_type": "execute_result",
     "data": {
      "text/plain": [
       "(array([0, 0, 0, 0]), array([0, 1, 2, 3]))"
      ]
     },
     "metadata": {},
     "execution_count": 70
    }
   ],
   "metadata": {}
  },
  {
   "cell_type": "code",
   "execution_count": 52,
   "source": [
    "split_coords"
   ],
   "outputs": [
    {
     "output_type": "execute_result",
     "data": {
      "text/plain": [
       "array([[  3.24627404, 101.72260143],\n",
       "       [  3.28321805, 101.53893315],\n",
       "       [  3.2178664 , 101.7142398 ],\n",
       "       [  3.1749588 , 101.7487479 ]])"
      ]
     },
     "metadata": {},
     "execution_count": 52
    }
   ],
   "metadata": {}
  },
  {
   "cell_type": "code",
   "execution_count": 88,
   "source": [
    "\n",
    "# for node in split_coords:\n",
    "#     temp_split_coords = np.delete(split_coords, np.argwhere(split_coords==node))\n",
    "#     temp_split_coords = temp_split_coords.reshape(len(split_coords)-1, -1)\n",
    "#     print(temp_split_coords)\n",
    "#     print(closest_node(node, temp_split_coords), end='\\n\\n')"
   ],
   "outputs": [],
   "metadata": {}
  },
  {
   "cell_type": "code",
   "execution_count": 109,
   "source": [
    "count = 0\n",
    "for pair in itertools.product(split_coords, repeat=2):\n",
    "    x, y = pair\n",
    "    if np.array_equal(x, y):\n",
    "        continue\n",
    "    c = clustering.two_nearest_circle_point_centroid(x, y, 5, 5)\n",
    "    print(x, y)\n",
    "    print(c)\n",
    "    print()\n",
    "    count += 1\n",
    "    if count == len(split_coords):\n",
    "        break"
   ],
   "outputs": [
    {
     "output_type": "stream",
     "name": "stdout",
     "text": [
      "[  3.24627404 101.72260143] [  3.28321805 101.53893315]\n",
      "[  4.88788307 152.492068  ]\n",
      "\n",
      "[  3.24627404 101.72260143] [  3.2178664 101.7142398]\n",
      "[  4.85520724 152.57972133]\n",
      "\n",
      "[  3.24627404 101.72260143] [  3.1749588 101.7487479]\n",
      "[  4.83375344 152.59697538]\n",
      "\n",
      "[  3.28321805 101.53893315] [  3.24627404 101.72260143]\n",
      "[  4.90635507 152.40023386]\n",
      "\n"
     ]
    }
   ],
   "metadata": {}
  },
  {
   "cell_type": "code",
   "execution_count": null,
   "source": [],
   "outputs": [],
   "metadata": {}
  }
 ],
 "metadata": {
  "orig_nbformat": 4,
  "language_info": {
   "name": "python",
   "version": "3.8.5",
   "mimetype": "text/x-python",
   "codemirror_mode": {
    "name": "ipython",
    "version": 3
   },
   "pygments_lexer": "ipython3",
   "nbconvert_exporter": "python",
   "file_extension": ".py"
  },
  "kernelspec": {
   "name": "python3",
   "display_name": "Python 3.8.5 64-bit ('base': conda)"
  },
  "interpreter": {
   "hash": "7fd2e44b930fab191c1ba75ffc4e605876b5c3b1a2b50d4c86eda50eacc7576e"
  }
 },
 "nbformat": 4,
 "nbformat_minor": 2
}