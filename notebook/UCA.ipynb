{
 "cells": [
  {
   "cell_type": "code",
   "execution_count": 1,
   "metadata": {},
   "outputs": [
    {
     "data": {
      "text/plain": [
       "array([ 1.29289322, -1.29289322])"
      ]
     },
     "execution_count": 1,
     "metadata": {},
     "output_type": "execute_result"
    }
   ],
   "source": [
    "import numpy as np\n",
    "\n",
    "A = np.array([0, 0])\n",
    "B = np.array([4, -4])\n",
    "ra = 3\n",
    "rb = 5\n",
    "\n",
    "len_AB = np.sqrt((A[0] - B[0])**2 + (A[1] - B[1])**2)\n",
    "t = (ra - rb + len_AB)/(2*len_AB)\n",
    "\n",
    "mid = A + t * B\n",
    "mid"
   ]
  },
  {
   "cell_type": "code",
   "execution_count": 2,
   "metadata": {},
   "outputs": [],
   "source": [
    "def uca(A, B, ra, rb):\n",
    "    len_AB = np.sqrt((A[0] - B[0])**2 + (A[1] - B[1])**2)\n",
    "    t = (ra - rb + len_AB)/(2*len_AB)\n",
    "    mid = A + t * B\n",
    "    \n",
    "    return mid"
   ]
  },
  {
   "cell_type": "code",
   "execution_count": 3,
   "metadata": {},
   "outputs": [
    {
     "data": {
      "text/plain": [
       "array([ 1.29289322, -1.29289322])"
      ]
     },
     "execution_count": 3,
     "metadata": {},
     "output_type": "execute_result"
    }
   ],
   "source": [
    "uca(A, B, ra, rb) # it works"
   ]
  },
  {
   "cell_type": "code",
   "execution_count": null,
   "metadata": {},
   "outputs": [],
   "source": []
  }
 ],
 "metadata": {
  "kernelspec": {
   "display_name": "Python 3",
   "language": "python",
   "name": "python3"
  },
  "language_info": {
   "codemirror_mode": {
    "name": "ipython",
    "version": 3
   },
   "file_extension": ".py",
   "mimetype": "text/x-python",
   "name": "python",
   "nbconvert_exporter": "python",
   "pygments_lexer": "ipython3",
   "version": "3.7.6"
  }
 },
 "nbformat": 4,
 "nbformat_minor": 4
}
