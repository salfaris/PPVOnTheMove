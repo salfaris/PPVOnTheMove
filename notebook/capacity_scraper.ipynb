{
  "nbformat": 4,
  "nbformat_minor": 0,
  "metadata": {
    "colab": {
      "name": "capacity_scraper.ipynb",
      "provenance": [],
      "collapsed_sections": []
    },
    "kernelspec": {
      "name": "python3",
      "display_name": "Python 3"
    },
    "language_info": {
      "name": "python"
    }
  },
  "cells": [
    {
      "cell_type": "code",
      "metadata": {
        "colab": {
          "base_uri": "https://localhost:8080/"
        },
        "id": "xGTvWzbeIOx9",
        "outputId": "d497009a-2e00-417c-a249-6e04e206b388"
      },
      "source": [
        "import sys\n",
        "\n",
        "from google.colab import drive\n",
        "drive.mount('/content/gdrive')\n",
        "# sys.path.append('/content/gdrive/Colab Notebooks')\n",
        "PATH_TO_COLAB = '/content/gdrive/MyDrive/Colab Notebooks/'"
      ],
      "execution_count": null,
      "outputs": [
        {
          "output_type": "stream",
          "text": [
            "Drive already mounted at /content/gdrive; to attempt to forcibly remount, call drive.mount(\"/content/gdrive\", force_remount=True).\n"
          ],
          "name": "stdout"
        }
      ]
    },
    {
      "cell_type": "code",
      "metadata": {
        "colab": {
          "base_uri": "https://localhost:8080/"
        },
        "id": "q_eMfOB4IrIS",
        "outputId": "ab515049-dc2c-4825-bcb6-bca38f2c5ed8"
      },
      "source": [
        "!pip install requests_html\n",
        "import requests\n",
        "import urllib\n",
        "import pandas as pd\n",
        "from requests_html import HTML\n",
        "from requests_html import HTMLSession\n",
        "from bs4 import BeautifulSoup"
      ],
      "execution_count": null,
      "outputs": [
        {
          "output_type": "stream",
          "text": [
            "Requirement already satisfied: requests_html in /usr/local/lib/python3.7/dist-packages (0.10.0)\n",
            "Requirement already satisfied: w3lib in /usr/local/lib/python3.7/dist-packages (from requests_html) (1.22.0)\n",
            "Requirement already satisfied: parse in /usr/local/lib/python3.7/dist-packages (from requests_html) (1.19.0)\n",
            "Requirement already satisfied: bs4 in /usr/local/lib/python3.7/dist-packages (from requests_html) (0.0.1)\n",
            "Requirement already satisfied: requests in /usr/local/lib/python3.7/dist-packages (from requests_html) (2.23.0)\n",
            "Requirement already satisfied: fake-useragent in /usr/local/lib/python3.7/dist-packages (from requests_html) (0.1.11)\n",
            "Requirement already satisfied: pyquery in /usr/local/lib/python3.7/dist-packages (from requests_html) (1.4.3)\n",
            "Requirement already satisfied: pyppeteer>=0.0.14 in /usr/local/lib/python3.7/dist-packages (from requests_html) (0.2.6)\n",
            "Requirement already satisfied: pyee<9.0.0,>=8.1.0 in /usr/local/lib/python3.7/dist-packages (from pyppeteer>=0.0.14->requests_html) (8.2.2)\n",
            "Requirement already satisfied: appdirs<2.0.0,>=1.4.3 in /usr/local/lib/python3.7/dist-packages (from pyppeteer>=0.0.14->requests_html) (1.4.4)\n",
            "Requirement already satisfied: importlib-metadata>=1.4 in /usr/local/lib/python3.7/dist-packages (from pyppeteer>=0.0.14->requests_html) (4.6.4)\n",
            "Requirement already satisfied: urllib3<2.0.0,>=1.25.8 in /usr/local/lib/python3.7/dist-packages (from pyppeteer>=0.0.14->requests_html) (1.25.11)\n",
            "Requirement already satisfied: tqdm<5.0.0,>=4.42.1 in /usr/local/lib/python3.7/dist-packages (from pyppeteer>=0.0.14->requests_html) (4.62.0)\n",
            "Requirement already satisfied: websockets<10.0,>=9.1 in /usr/local/lib/python3.7/dist-packages (from pyppeteer>=0.0.14->requests_html) (9.1)\n",
            "Requirement already satisfied: typing-extensions>=3.6.4 in /usr/local/lib/python3.7/dist-packages (from importlib-metadata>=1.4->pyppeteer>=0.0.14->requests_html) (3.7.4.3)\n",
            "Requirement already satisfied: zipp>=0.5 in /usr/local/lib/python3.7/dist-packages (from importlib-metadata>=1.4->pyppeteer>=0.0.14->requests_html) (3.5.0)\n",
            "Requirement already satisfied: beautifulsoup4 in /usr/local/lib/python3.7/dist-packages (from bs4->requests_html) (4.6.3)\n",
            "Requirement already satisfied: cssselect>0.7.9 in /usr/local/lib/python3.7/dist-packages (from pyquery->requests_html) (1.1.0)\n",
            "Requirement already satisfied: lxml>=2.1 in /usr/local/lib/python3.7/dist-packages (from pyquery->requests_html) (4.2.6)\n",
            "Requirement already satisfied: idna<3,>=2.5 in /usr/local/lib/python3.7/dist-packages (from requests->requests_html) (2.10)\n",
            "Requirement already satisfied: certifi>=2017.4.17 in /usr/local/lib/python3.7/dist-packages (from requests->requests_html) (2021.5.30)\n",
            "Requirement already satisfied: chardet<4,>=3.0.2 in /usr/local/lib/python3.7/dist-packages (from requests->requests_html) (3.0.4)\n",
            "Requirement already satisfied: six>=1.4.1 in /usr/local/lib/python3.7/dist-packages (from w3lib->requests_html) (1.15.0)\n"
          ],
          "name": "stdout"
        }
      ]
    },
    {
      "cell_type": "code",
      "metadata": {
        "id": "nVaQ840iJ8O7"
      },
      "source": [
        "def get_source(url):\n",
        "    try:\n",
        "        session = HTMLSession()\n",
        "        response = session.get(url)\n",
        "        return response\n",
        "\n",
        "    except requests.exceptions.RequestException as e:\n",
        "        print(e)\n",
        "\n",
        "def scrape_google(query):\n",
        "\n",
        "  query = urllib.parse.quote_plus(query)\n",
        "  response = get_source(\"https://www.google.co.uk/search?q=\" + query)\n",
        "\n",
        "  links = list(response.html.absolute_links)\n",
        "  google_domains = ('https://www.google.', \n",
        "                    'https://google.', \n",
        "                    'https://webcache.googleusercontent.', \n",
        "                    'http://webcache.googleusercontent.', \n",
        "                    'https://policies.google.',\n",
        "                    'https://support.google.',\n",
        "                    'https://maps.google.',\n",
        "                    'https://www.facebook.com',\n",
        "                    'https://translate.google.co.uk')\n",
        "\n",
        "  for url in links[:]:\n",
        "      if url.startswith(google_domains):\n",
        "          links.remove(url)\n",
        "      if 'youtube' in url:\n",
        "        links.remove(url)\n",
        "\n",
        "  return links\n",
        "\n",
        "# def find_word(list):\n",
        "#   links = []\n",
        "#   for link in lists:\n",
        "#     page=requests.get(link)\n",
        "#     soup = BeautifulSoup(page.text,'lxml')\n",
        "#     if 'dos' in soup"
      ],
      "execution_count": null,
      "outputs": []
    },
    {
      "cell_type": "code",
      "metadata": {
        "id": "pB6TUzr5KI6f"
      },
      "source": [
        "ppvs = pd.read_csv(PATH_TO_COLAB + '/selangor_ppv.txt', delimiter='\\n')\n",
        "\n",
        "ppv_name=[]\n",
        "ppv_links=[]\n",
        "\n",
        "for index in range(0,len(ppvs)):\n",
        "  ppv_name=scrape_google(ppvs.iloc[index].PPV+' ppv dos')\n",
        "# print(ppvs.iloc[1].PPV+' ppv dos')\n",
        "# ppv_name=scrape_google(ppvs.iloc[0].PPV)\n",
        "  ppv_links.append(ppv_name[0:4])\n"
      ],
      "execution_count": null,
      "outputs": []
    },
    {
      "cell_type": "code",
      "metadata": {
        "id": "pB4a8wAAakAM"
      },
      "source": [
        "ppv_names = ppvs.PPV.values.tolist()"
      ],
      "execution_count": null,
      "outputs": []
    },
    {
      "cell_type": "code",
      "metadata": {
        "colab": {
          "base_uri": "https://localhost:8080/"
        },
        "id": "u5W2vhthZ6gH",
        "outputId": "01994d53-0333-401b-ab66-c76986076dfb"
      },
      "source": [
        "ppv_names"
      ],
      "execution_count": null,
      "outputs": [
        {
          "output_type": "execute_result",
          "data": {
            "text/plain": [
              "['Menara Sime Darby Plantation (PPV for the OKU)',\n",
              " '360 Club Eco Hill',\n",
              " 'Bangi Golf Resort',\n",
              " 'Bukit Beruntung Golf Resort',\n",
              " 'Sunway Convention Centre',\n",
              " 'Setia City Convention Centre (SCCC)',\n",
              " 'Setia Eco Templer',\n",
              " 'Space U8, Bukit Jelutong',\n",
              " 'Kuala Selangor Indoor Stadium',\n",
              " 'Universiti Teknologi MARA, Shah Alam',\n",
              " 'Universiti Kebangsaan Malaysia (UKM)',\n",
              " 'UNIKL British Malaysia Institute (BMI)',\n",
              " 'UITM Shah Alam',\n",
              " 'UITM Puncak Alam',\n",
              " 'UiTM Private Specialist Centre, Sungai Buloh',\n",
              " 'MAHSA University',\n",
              " 'Multimedia University (MMU), Cyberjaya, Sepang',\n",
              " 'Movenpick Hotel and Convention Centre, KLIA',\n",
              " 'KLIA Main Terminal Building',\n",
              " 'Orion Clinic',\n",
              " 'Premiere Hotel, Klang',\n",
              " 'Wyndham Acmar Hotel, Klang',\n",
              " 'Dewan Serbaguna Salak Tinggi',\n",
              " 'Universiti Kebangsaan Malaysia',\n",
              " 'Universiti Malaya',\n",
              " 'Institut Pengurusan Peladang (IPP), Tanjong Karang',\n",
              " 'Ideal Convention Centre (IDCC), Shah Alam',\n",
              " 'Shah Alam Convention Centre (SACC)',\n",
              " 'An-Nur Specialist Hospital',\n",
              " 'Management and Science University (MSU), Shah Alam',\n",
              " 'Universiti Sains Islam Malaysia (USIM), Pandan Indah',\n",
              " 'Kompleks Sukan Majlis Perbadanan Kuala Langat',\n",
              " 'Kompleks Sukan Negara Shah Alam Panasonic',\n",
              " 'Bangi Avenue Convention Centre (BACC), Taman Bangi Avenue',\n",
              " 'Bangi Convention Centre (BCC), Seksyen 14',\n",
              " 'Mewah Club Kajang Galaxy Mall, Ampang',\n",
              " 'UNIKL - British Malaysian Institute (BMI) (Sungai Pusu)',\n",
              " 'Persada PLUS (Petaling Jaya)',\n",
              " 'Petaling Jaya Performing Arts Centre',\n",
              " 'Le Gardens Pavilion, Gamuda Gardens (Rawang)',\n",
              " 'Dewan Alwy, Jabatan Perhutanan Semenanjung Malaysia',\n",
              " 'Dewan Canselor MSU (Management & Science University), Seksyen 13',\n",
              " 'Dewan Kelab Sukan Dan Rekreasi Pelabuhan Klang LPK',\n",
              " 'Dewan Komuniti Serendah',\n",
              " 'Dewan MPSJ, Puchong Indah',\n",
              " 'Dewan Seri Sekinchan',\n",
              " 'Dewan Seri Bernam Sg Besar',\n",
              " 'Dewan Semai Bakti, FELDA Soeharto',\n",
              " 'Dewan Sivik MBPJ',\n",
              " 'Dewan Sukan Pandamaran',\n",
              " 'Dewan Tun Razak, Sabak Bernam',\n",
              " 'Dewan Orang Ramai Kampung Ampang Indah',\n",
              " 'Dewan Orang Ramai Taman Bukit Mewah, Kajang',\n",
              " 'Dewan Serbaguna Bandar Baru Salak Tinggi',\n",
              " 'Dewan Banquer Persada PLUS (Subang)',\n",
              " 'Dewan Meranti 2, Seksyen U20, Bandar Baru Sungai Buloh',\n",
              " 'Dewan Kenanga, Seksyen 28 (Shah Alam Tengah)',\n",
              " 'Dewan Kemuning Utama, Seksyen 32 (Shah Alam Selatan)',\n",
              " 'Dewan Persatuan Hokkien, Klang',\n",
              " 'Dewan Persatuan Soka Gakkai',\n",
              " 'KPJ Klang Specialist Hospital',\n",
              " 'Hospital Serdang',\n",
              " 'Hospital Sungai Buloh',\n",
              " 'Hospital Selayang',\n",
              " 'Hospital Shah Alam',\n",
              " 'Hospital Kajang',\n",
              " 'Hospital Kuala Kubu Bharu',\n",
              " 'Hospital Orang Asli Gombak',\n",
              " 'Hospital Pengajar UPM (Universiti Putra Malaysia)',\n",
              " 'Hospital Tengku Ampuan Rahimah',\n",
              " 'Hospital Tanjung Karang',\n",
              " 'Hospital Tengku Ampuan Jemaah']"
            ]
          },
          "metadata": {},
          "execution_count": 70
        }
      ]
    },
    {
      "cell_type": "code",
      "metadata": {
        "id": "gHklBHtRKTQS"
      },
      "source": [
        "lists = pd.DataFrame({\n",
        "    'ppv_name': ppv_names,\n",
        "    'ppv_links': ppv_links\n",
        "})"
      ],
      "execution_count": null,
      "outputs": []
    },
    {
      "cell_type": "code",
      "metadata": {
        "colab": {
          "base_uri": "https://localhost:8080/",
          "height": 419
        },
        "id": "7v7W_YBya04R",
        "outputId": "7232f0fa-26fb-498b-87ed-6a8dedb61b63"
      },
      "source": [
        "lists"
      ],
      "execution_count": null,
      "outputs": [
        {
          "output_type": "execute_result",
          "data": {
            "text/html": [
              "<div>\n",
              "<style scoped>\n",
              "    .dataframe tbody tr th:only-of-type {\n",
              "        vertical-align: middle;\n",
              "    }\n",
              "\n",
              "    .dataframe tbody tr th {\n",
              "        vertical-align: top;\n",
              "    }\n",
              "\n",
              "    .dataframe thead th {\n",
              "        text-align: right;\n",
              "    }\n",
              "</style>\n",
              "<table border=\"1\" class=\"dataframe\">\n",
              "  <thead>\n",
              "    <tr style=\"text-align: right;\">\n",
              "      <th></th>\n",
              "      <th>ppv_name</th>\n",
              "      <th>ppv_links</th>\n",
              "    </tr>\n",
              "  </thead>\n",
              "  <tbody>\n",
              "    <tr>\n",
              "      <th>0</th>\n",
              "      <td>Menara Sime Darby Plantation (PPV for the OKU)</td>\n",
              "      <td>[https://www.bharian.com.my/berita/nasional/20...</td>\n",
              "    </tr>\n",
              "    <tr>\n",
              "      <th>1</th>\n",
              "      <td>360 Club Eco Hill</td>\n",
              "      <td>[https://m.facebook.com/setiaecohilltownship/v...</td>\n",
              "    </tr>\n",
              "    <tr>\n",
              "      <th>2</th>\n",
              "      <td>Bangi Golf Resort</td>\n",
              "      <td>[https://www.sinarharian.com.my/article/147844...</td>\n",
              "    </tr>\n",
              "    <tr>\n",
              "      <th>3</th>\n",
              "      <td>Bukit Beruntung Golf Resort</td>\n",
              "      <td>[https://www.hmetro.com.my/mutakhir/2021/08/74...</td>\n",
              "    </tr>\n",
              "    <tr>\n",
              "      <th>4</th>\n",
              "      <td>Sunway Convention Centre</td>\n",
              "      <td>[https://twitter.com/klccconvention?lang=en, h...</td>\n",
              "    </tr>\n",
              "    <tr>\n",
              "      <th>...</th>\n",
              "      <td>...</td>\n",
              "      <td>...</td>\n",
              "    </tr>\n",
              "    <tr>\n",
              "      <th>67</th>\n",
              "      <td>Hospital Orang Asli Gombak</td>\n",
              "      <td>[https://twitter.com/jkjavmy?lang=en, https://...</td>\n",
              "    </tr>\n",
              "    <tr>\n",
              "      <th>68</th>\n",
              "      <td>Hospital Pengajar UPM (Universiti Putra Malaysia)</td>\n",
              "      <td>[https://hpupm.upm.edu.my/, https://www.mohe.g...</td>\n",
              "    </tr>\n",
              "    <tr>\n",
              "      <th>69</th>\n",
              "      <td>Hospital Tengku Ampuan Rahimah</td>\n",
              "      <td>[https://www.bharian.com.my/berita/nasional/20...</td>\n",
              "    </tr>\n",
              "    <tr>\n",
              "      <th>70</th>\n",
              "      <td>Hospital Tanjung Karang</td>\n",
              "      <td>[https://www.waze.com/live-map/directions/hosp...</td>\n",
              "    </tr>\n",
              "    <tr>\n",
              "      <th>71</th>\n",
              "      <td>Hospital Tengku Ampuan Jemaah</td>\n",
              "      <td>[https://www.bharian.com.my/berita/nasional/20...</td>\n",
              "    </tr>\n",
              "  </tbody>\n",
              "</table>\n",
              "<p>72 rows × 2 columns</p>\n",
              "</div>"
            ],
            "text/plain": [
              "                                             ppv_name                                          ppv_links\n",
              "0      Menara Sime Darby Plantation (PPV for the OKU)  [https://www.bharian.com.my/berita/nasional/20...\n",
              "1                                   360 Club Eco Hill  [https://m.facebook.com/setiaecohilltownship/v...\n",
              "2                                   Bangi Golf Resort  [https://www.sinarharian.com.my/article/147844...\n",
              "3                         Bukit Beruntung Golf Resort  [https://www.hmetro.com.my/mutakhir/2021/08/74...\n",
              "4                            Sunway Convention Centre  [https://twitter.com/klccconvention?lang=en, h...\n",
              "..                                                ...                                                ...\n",
              "67                         Hospital Orang Asli Gombak  [https://twitter.com/jkjavmy?lang=en, https://...\n",
              "68  Hospital Pengajar UPM (Universiti Putra Malaysia)  [https://hpupm.upm.edu.my/, https://www.mohe.g...\n",
              "69                     Hospital Tengku Ampuan Rahimah  [https://www.bharian.com.my/berita/nasional/20...\n",
              "70                            Hospital Tanjung Karang  [https://www.waze.com/live-map/directions/hosp...\n",
              "71                      Hospital Tengku Ampuan Jemaah  [https://www.bharian.com.my/berita/nasional/20...\n",
              "\n",
              "[72 rows x 2 columns]"
            ]
          },
          "metadata": {},
          "execution_count": 72
        }
      ]
    },
    {
      "cell_type": "code",
      "metadata": {
        "id": "gZXOHXV5a1TQ"
      },
      "source": [
        "lists.to_csv('ppv_links.csv')"
      ],
      "execution_count": null,
      "outputs": []
    },
    {
      "cell_type": "code",
      "metadata": {
        "id": "KaXN3rh_fHa5"
      },
      "source": [
        "first_half = lists.iloc[:36]\n",
        "second_half = lists.iloc[36:]"
      ],
      "execution_count": null,
      "outputs": []
    },
    {
      "cell_type": "code",
      "metadata": {
        "id": "h1-tBwkfb5fo"
      },
      "source": [
        "iters = iter(second_half.iterrows())\n",
        "\n",
        "def get_next():\n",
        "  idx, row = next(iters)\n",
        "  name, links = row\n",
        "  print(name)\n",
        "  return links"
      ],
      "execution_count": null,
      "outputs": []
    },
    {
      "cell_type": "code",
      "metadata": {
        "colab": {
          "base_uri": "https://localhost:8080/"
        },
        "id": "CYPOzTpvcex4",
        "outputId": "297aaac9-a9ad-4c10-ccf4-686e689231b8"
      },
      "source": [
        "get_next()"
      ],
      "execution_count": 212,
      "outputs": [
        {
          "output_type": "stream",
          "text": [
            "Hospital Tengku Ampuan Jemaah\n"
          ],
          "name": "stdout"
        },
        {
          "output_type": "execute_result",
          "data": {
            "text/plain": [
              "['https://www.bharian.com.my/berita/nasional/2021/07/839032/2-juta-dos-vaksin-akan-diagih-di-lembah-klang-ns-muhyiddin',\n",
              " 'https://htaj.moh.gov.my/index.php/en/',\n",
              " 'https://www.amirudinshari.com/posts/my-metro-6-hospital-di-selangor-dijadikan-pusat-simpanan-vaksin-covid-19',\n",
              " 'https://www.hmetro.com.my/mutakhir/2021/07/728185/katil-ditempatkan-bagi-menunggu-giliran-sahaja-dr-siti-mariah-metrotv']"
            ]
          },
          "metadata": {},
          "execution_count": 212
        }
      ]
    },
    {
      "cell_type": "code",
      "metadata": {
        "id": "57U2jUhrdeVV"
      },
      "source": [
        ""
      ],
      "execution_count": null,
      "outputs": []
    }
  ]
}